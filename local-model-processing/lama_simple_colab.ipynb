{
 "cells": [
  {
   "cell_type": "markdown",
   "metadata": {},
   "source": [
    "# LaMa with Refinement - Google Colab\n",
    "\n",
    "Uses your existing model from Google Drive with proper dependency management."
   ]
  },
  {
   "cell_type": "code",
   "execution_count": null,
   "metadata": {},
   "outputs": [],
   "source": [
    "# Mount Google Drive\n",
    "from google.colab import drive\n",
    "drive.mount('/content/drive')"
   ]
  },
  {
   "cell_type": "code",
   "execution_count": null,
   "metadata": {},
   "outputs": [],
   "source": "# Install PyTorch FIRST (before numpy)\n# Using PyTorch 1.13.1 - oldest available that still supports refinement\n!pip uninstall torch torchvision torchaudio -y\n!pip install torch==1.13.1+cu117 torchvision==0.14.1+cu117 -f https://download.pytorch.org/whl/torch_stable.html"
  },
  {
   "cell_type": "code",
   "execution_count": null,
   "metadata": {},
   "outputs": [],
   "source": [
    "# Clone lama-with-refiner\n",
    "!git clone https://github.com/geomagical/lama-with-refiner.git\n",
    "%cd lama-with-refiner"
   ]
  },
  {
   "cell_type": "code",
   "execution_count": null,
   "metadata": {},
   "outputs": [],
   "source": "# Critical: Install numpy 1.21.6 for PyTorch 1.13\n# LaMa needs numpy<1.24 but >=1.21 for PyTorch 1.13\n!pip uninstall numpy -y\n!pip install numpy==1.21.6"
  },
  {
   "cell_type": "code",
   "execution_count": null,
   "metadata": {},
   "outputs": [],
   "source": "# Install other dependencies with compatible versions for PyTorch 1.13\n!pip install opencv-python==4.7.0.72 scikit-image==0.19.3 pyyaml==6.0 tqdm easydict==1.10\n!pip install pytorch-lightning==1.5.10 kornia==0.6.12 hydra-core==1.3.2 omegaconf==2.3.0\n!pip install tensorflow==2.11.0"
  },
  {
   "cell_type": "code",
   "execution_count": null,
   "metadata": {},
   "outputs": [],
   "source": [
    "# Download perceptual loss model for refinement\n",
    "!mkdir -p ade20k/ade20k-resnet50dilated-ppm_deepsup/\n",
    "!wget -P ade20k/ade20k-resnet50dilated-ppm_deepsup/ http://sceneparsing.csail.mit.edu/model/pytorch/ade20k-resnet50dilated-ppm_deepsup/encoder_epoch_20.pth"
   ]
  },
  {
   "cell_type": "code",
   "execution_count": null,
   "metadata": {},
   "outputs": [],
   "source": [
    "# Copy your model from Google Drive\n",
    "!mkdir -p big-lama/models\n",
    "!cp /content/drive/MyDrive/lama_models/best.ckpt big-lama/models/\n",
    "!cp /content/drive/MyDrive/lama_models/config.yaml big-lama/"
   ]
  },
  {
   "cell_type": "code",
   "execution_count": null,
   "metadata": {},
   "outputs": [],
   "source": [
    "# Upload and extract images\n",
    "from google.colab import files\n",
    "import zipfile\n",
    "import shutil\n",
    "\n",
    "uploaded = files.upload()\n",
    "zip_name = list(uploaded.keys())[0]\n",
    "\n",
    "!rm -rf input_images && mkdir -p input_images\n",
    "with zipfile.ZipFile(zip_name, 'r') as zip_ref:\n",
    "    zip_ref.extractall('input_images')\n",
    "\n",
    "# Rename mask for LaMa format\n",
    "import os\n",
    "if os.path.exists('input_images/mask.png'):\n",
    "    shutil.move('input_images/mask.png', 'input_images/image_mask000.png')"
   ]
  },
  {
   "cell_type": "code",
   "execution_count": null,
   "metadata": {},
   "outputs": [],
   "source": [
    "# Run with refinement\n",
    "!export TORCH_HOME=$(pwd) && export PYTHONPATH=$(pwd):$(pwd)/lama && \\\n",
    "python lama/bin/predict.py \\\n",
    "    model.path=$(pwd)/big-lama \\\n",
    "    indir=$(pwd)/input_images \\\n",
    "    outdir=$(pwd)/output_refined \\\n",
    "    refiner.enable=True \\\n",
    "    refiner.n_iters=15 \\\n",
    "    device=cuda"
   ]
  },
  {
   "cell_type": "code",
   "execution_count": null,
   "metadata": {},
   "outputs": [],
   "source": [
    "# Display results\n",
    "from PIL import Image\n",
    "import matplotlib.pyplot as plt\n",
    "\n",
    "fig, axes = plt.subplots(1, 3, figsize=(15, 5))\n",
    "\n",
    "original = Image.open('input_images/image.png')\n",
    "axes[0].imshow(original)\n",
    "axes[0].set_title('Original')\n",
    "axes[0].axis('off')\n",
    "\n",
    "mask = Image.open('input_images/image_mask000.png').convert('L')\n",
    "axes[1].imshow(mask, cmap='gray')\n",
    "axes[1].set_title('Mask')\n",
    "axes[1].axis('off')\n",
    "\n",
    "result = Image.open('output_refined/image_mask000.png')\n",
    "axes[2].imshow(result)\n",
    "axes[2].set_title('Refined Result')\n",
    "axes[2].axis('off')\n",
    "\n",
    "plt.tight_layout()\n",
    "plt.show()"
   ]
  },
  {
   "cell_type": "code",
   "execution_count": null,
   "metadata": {},
   "outputs": [],
   "source": [
    "# Download result\n",
    "files.download('output_refined/image_mask000.png')"
   ]
  }
 ],
 "metadata": {
  "accelerator": "GPU",
  "kernelspec": {
   "display_name": "Python 3",
   "language": "python",
   "name": "python3"
  }
 },
 "nbformat": 4,
 "nbformat_minor": 4
}