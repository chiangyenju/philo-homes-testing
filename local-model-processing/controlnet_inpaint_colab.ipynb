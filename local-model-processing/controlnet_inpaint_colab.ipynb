{
 "cells": [
  {
   "cell_type": "markdown",
   "metadata": {},
   "source": [
    "# ControlNet Inpainting - Precise Edge Control\n",
    "\n",
    "Better edge preservation than LaMa, with modern diffusion models."
   ]
  },
  {
   "cell_type": "code",
   "execution_count": null,
   "metadata": {},
   "outputs": [],
   "source": [
    "!pip install diffusers transformers accelerate controlnet-aux"
   ]
  },
  {
   "cell_type": "code",
   "execution_count": null,
   "metadata": {},
   "outputs": [],
   "source": [
    "from diffusers import StableDiffusionControlNetInpaintPipeline, ControlNetModel\n",
    "import torch\n",
    "from PIL import Image\n",
    "import numpy as np\n",
    "\n",
    "# Load ControlNet for inpainting\n",
    "controlnet = ControlNetModel.from_pretrained(\n",
    "    \"lllyasviel/control_v11p_sd15_inpaint\",\n",
    "    torch_dtype=torch.float16\n",
    ")\n",
    "\n",
    "pipe = StableDiffusionControlNetInpaintPipeline.from_pretrained(\n",
    "    \"runwayml/stable-diffusion-v1-5\",\n",
    "    controlnet=controlnet,\n",
    "    torch_dtype=torch.float16,\n",
    "    safety_checker=None\n",
    ").to(\"cuda\")\n",
    "\n",
    "pipe.enable_xformers_memory_efficient_attention()"
   ]
  },
  {
   "cell_type": "code",
   "execution_count": null,
   "metadata": {},
   "outputs": [],
   "source": [
    "# Upload and process\n",
    "from google.colab import files\n",
    "import zipfile\n",
    "\n",
    "uploaded = files.upload()\n",
    "zip_name = list(uploaded.keys())[0]\n",
    "\n",
    "with zipfile.ZipFile(zip_name, 'r') as zip_ref:\n",
    "    zip_ref.extractall('.')\n",
    "\n",
    "image = Image.open(\"image.png\").convert(\"RGB\")\n",
    "mask = Image.open(\"mask.png\").convert(\"L\")\n",
    "\n",
    "# Create control image (masked area)\n",
    "control_image = Image.new('RGB', image.size, (0, 0, 0))\n",
    "control_image.paste(image, mask=Image.fromarray(255 - np.array(mask)))"
   ]
  },
  {
   "cell_type": "code",
   "execution_count": null,
   "metadata": {},
   "outputs": [],
   "source": [
    "# Inpaint with ControlNet\n",
    "result = pipe(\n",
    "    prompt=\"empty room interior, clean walls, professional photo\",\n",
    "    negative_prompt=\"furniture, objects, artifacts\",\n",
    "    image=image,\n",
    "    mask_image=mask,\n",
    "    control_image=control_image,\n",
    "    num_inference_steps=30,\n",
    "    guidance_scale=7.5,\n",
    "    controlnet_conditioning_scale=1.0\n",
    ").images[0]\n",
    "\n",
    "result.save(\"result_controlnet.png\")\n",
    "files.download(\"result_controlnet.png\")"
   ]
  }
 ],
 "metadata": {
  "accelerator": "GPU"
 },
 "nbformat": 4,
 "nbformat_minor": 4
}