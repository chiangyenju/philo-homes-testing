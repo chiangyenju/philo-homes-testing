{
 "cells": [
  {
   "cell_type": "markdown",
   "metadata": {},
   "source": [
    "# SDXL Inpainting - Modern High-Quality Solution\n",
    "\n",
    "Better than LaMa with built-in refinement. Works with current Colab environment."
   ]
  },
  {
   "cell_type": "code",
   "execution_count": null,
   "metadata": {},
   "outputs": [],
   "source": [
    "# Install dependencies (works with latest Colab)\n",
    "!pip install diffusers transformers accelerate safetensors"
   ]
  },
  {
   "cell_type": "code",
   "execution_count": null,
   "metadata": {},
   "outputs": [],
   "source": [
    "from diffusers import AutoPipelineForInpainting\n",
    "import torch\n",
    "from PIL import Image\n",
    "import numpy as np\n",
    "\n",
    "# Load SDXL inpainting pipeline\n",
    "pipe = AutoPipelineForInpainting.from_pretrained(\n",
    "    \"diffusers/stable-diffusion-xl-1.0-inpainting-0.1\",\n",
    "    torch_dtype=torch.float16,\n",
    "    variant=\"fp16\"\n",
    ").to(\"cuda\")\n",
    "\n",
    "# Enable memory efficient attention\n",
    "pipe.enable_xformers_memory_efficient_attention()"
   ]
  },
  {
   "cell_type": "code",
   "execution_count": null,
   "metadata": {},
   "outputs": [],
   "source": [
    "# Upload your files\n",
    "from google.colab import files\n",
    "import zipfile\n",
    "\n",
    "uploaded = files.upload()\n",
    "zip_name = list(uploaded.keys())[0]\n",
    "\n",
    "with zipfile.ZipFile(zip_name, 'r') as zip_ref:\n",
    "    zip_ref.extractall('.')\n",
    "\n",
    "# Load images\n",
    "image = Image.open(\"image.png\").convert(\"RGB\")\n",
    "mask = Image.open(\"mask.png\").convert(\"L\")"
   ]
  },
  {
   "cell_type": "code",
   "execution_count": null,
   "metadata": {},
   "outputs": [],
   "source": [
    "# High-quality inpainting with automatic refinement\n",
    "result = pipe(\n",
    "    prompt=\"high quality interior, professional photography\",\n",
    "    negative_prompt=\"blurry, artifacts, distorted\",\n",
    "    image=image,\n",
    "    mask_image=mask,\n",
    "    num_inference_steps=50,  # More steps = better quality\n",
    "    strength=0.99,\n",
    "    guidance_scale=8.0,\n",
    "    height=image.height,\n",
    "    width=image.width\n",
    ").images[0]\n",
    "\n",
    "# Display results\n",
    "import matplotlib.pyplot as plt\n",
    "fig, axes = plt.subplots(1, 3, figsize=(15, 5))\n",
    "\n",
    "axes[0].imshow(image)\n",
    "axes[0].set_title('Original')\n",
    "axes[0].axis('off')\n",
    "\n",
    "axes[1].imshow(mask, cmap='gray')\n",
    "axes[1].set_title('Mask')\n",
    "axes[1].axis('off')\n",
    "\n",
    "axes[2].imshow(result)\n",
    "axes[2].set_title('SDXL Inpainted')\n",
    "axes[2].axis('off')\n",
    "\n",
    "plt.tight_layout()\n",
    "plt.show()\n",
    "\n",
    "# Save and download\n",
    "result.save(\"result_sdxl.png\")\n",
    "files.download(\"result_sdxl.png\")"
   ]
  }
 ],
 "metadata": {
  "accelerator": "GPU",
  "kernelspec": {
   "display_name": "Python 3",
   "language": "python",
   "name": "python3"
  }
 },
 "nbformat": 4,
 "nbformat_minor": 4
}